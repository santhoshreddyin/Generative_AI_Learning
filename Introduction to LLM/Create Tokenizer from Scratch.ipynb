{
 "cells": [
  {
   "cell_type": "code",
   "execution_count": 1,
   "metadata": {},
   "outputs": [],
   "source": [
    "from __future__ import annotations\n",
    "\n",
    "# TODO: Feel free to add other imports as needed"
   ]
  },
  {
   "cell_type": "code",
   "execution_count": 2,
   "metadata": {},
   "outputs": [
    {
     "name": "stdout",
     "output_type": "stream",
     "text": [
      "Mr. Louis continued to say, \"Penguins are important, \n",
      "but we mustn't forget the nuumber 1 priority: the READER!\"\n",
      "\n"
     ]
    }
   ],
   "source": [
    "sample_text = '''Mr. Louis continued to say, \"Penguins are important, \n",
    "but we mustn't forget the nuumber 1 priority: the READER!\"\n",
    "'''\n",
    "\n",
    "print(sample_text)"
   ]
  },
  {
   "cell_type": "code",
   "execution_count": 26,
   "metadata": {},
   "outputs": [],
   "source": [
    "import string\n",
    "import re\n",
    "def normalize_text(text: str) -> str:\n",
    "    # COMPLETE: Normalize incoming text; can be multiple actions\n",
    "    # Only keep ASCII letters, numbers, punctuation, and whitespace characters\n",
    "    acceptable_characters = (\n",
    "        string.ascii_letters\n",
    "        + string.digits\n",
    "        + string.punctuation\n",
    "        + string.whitespace\n",
    "    )\n",
    "    print(acceptable_characters)\n",
    "    normalized_text = ''.join(\n",
    "        filter(lambda letter: letter in acceptable_characters, text)\n",
    "    )\n",
    "    # Make text lower-case\n",
    "    normalized_text = normalized_text.lower()\n",
    "    return normalized_text"
   ]
  },
  {
   "cell_type": "code",
   "execution_count": 27,
   "metadata": {},
   "outputs": [
    {
     "name": "stdout",
     "output_type": "stream",
     "text": [
      "abcdefghijklmnopqrstuvwxyzABCDEFGHIJKLMNOPQRSTUVWXYZ0123456789!\"#$%&'()*+,-./:;<=>?@[\\]^_`{|}~ \t\n",
      "\u000b\f\n"
     ]
    },
    {
     "data": {
      "text/plain": [
       "'mr. louis continued to say, \"penguins are important, \\nbut we mustn\\'t forget the nuumber 1 priority: the reader!\"'"
      ]
     },
     "execution_count": 27,
     "metadata": {},
     "output_type": "execute_result"
    }
   ],
   "source": [
    "normalize_text(sample_text)"
   ]
  },
  {
   "cell_type": "markdown",
   "metadata": {},
   "source": [
    "# Pretokenization"
   ]
  },
  {
   "cell_type": "code",
   "execution_count": 10,
   "metadata": {},
   "outputs": [],
   "source": [
    "def pretokenize_text(text: str) -> list[str]:\n",
    "    # TODO: Pretokenize normalized text\n",
    "    smaller_pieces = text.lower().split()\n",
    "    return smaller_pieces"
   ]
  },
  {
   "cell_type": "code",
   "execution_count": 11,
   "metadata": {},
   "outputs": [
    {
     "data": {
      "text/plain": [
       "['mr.',\n",
       " 'louis',\n",
       " 'continued',\n",
       " 'to',\n",
       " 'say,',\n",
       " '\"penguins',\n",
       " 'are',\n",
       " 'important,',\n",
       " 'but',\n",
       " 'we',\n",
       " \"mustn't\",\n",
       " 'forget',\n",
       " 'the',\n",
       " 'nuumber',\n",
       " '1',\n",
       " 'priority:',\n",
       " 'the',\n",
       " 'reader!\"']"
      ]
     },
     "execution_count": 11,
     "metadata": {},
     "output_type": "execute_result"
    }
   ],
   "source": [
    "normalized_text = normalize_text(sample_text)\n",
    "pretokenize_text(normalized_text)"
   ]
  },
  {
   "cell_type": "code",
   "execution_count": 12,
   "metadata": {},
   "outputs": [],
   "source": [
    "# Combine normalization and pretokenization steps before breaking things further\n",
    "def tokenize_text(text: str) -> list[str]:\n",
    "    # Apply normalization & pretokenization steps \n",
    "    normalized_text: str = normalize_text(text)\n",
    "    pretokenized_text: list[str] = pretokenize_text(normalized_text)\n",
    "    # TODO: Go through pretokenized text to create a list of tokens\n",
    "    tokens = pretokenized_text\n",
    "    return tokens"
   ]
  },
  {
   "cell_type": "code",
   "execution_count": 13,
   "metadata": {},
   "outputs": [
    {
     "data": {
      "text/plain": [
       "['mr.',\n",
       " 'louis',\n",
       " 'continued',\n",
       " 'to',\n",
       " 'say,',\n",
       " '\"penguins',\n",
       " 'are',\n",
       " 'important,',\n",
       " 'but',\n",
       " 'we',\n",
       " \"mustn't\",\n",
       " 'forget',\n",
       " 'the',\n",
       " 'nuumber',\n",
       " '1',\n",
       " 'priority:',\n",
       " 'the',\n",
       " 'reader!\"']"
      ]
     },
     "execution_count": 13,
     "metadata": {},
     "output_type": "execute_result"
    }
   ],
   "source": [
    "tokenize_text(sample_text)"
   ]
  },
  {
   "cell_type": "markdown",
   "metadata": {},
   "source": [
    "# Postprocessing"
   ]
  },
  {
   "cell_type": "code",
   "execution_count": 16,
   "metadata": {},
   "outputs": [],
   "source": [
    "def postprocess_tokens(tokens: list[str]) -> list[str]:\n",
    "    # TODO: Add beginning and end of sequence tokens to your tokenized text\n",
    "    # Can use a format like '[BOS]' & '[EOS]'\n",
    "    #combine 2 strings with a list\n",
    "    updated_tokens = ['[BOS]'] + tokens + ['[EOS]']\n",
    "    return updated_tokens"
   ]
  },
  {
   "cell_type": "code",
   "execution_count": 17,
   "metadata": {},
   "outputs": [
    {
     "name": "stdout",
     "output_type": "stream",
     "text": [
      "['[BOS]', 'mr.', 'louis', 'continued', 'to', 'say,', '\"penguins', 'are', 'important,', 'but', 'we', \"mustn't\", 'forget', 'the', 'nuumber', '1', 'priority:', 'the', 'reader!\"', '[EOS]']\n"
     ]
    }
   ],
   "source": [
    "# Test full pipeline (normalizing, pretokenizing, tokenizing, & postprocessing)\n",
    "tokens = tokenize_text(sample_text)\n",
    "tokens = postprocess_tokens(tokens)\n",
    "\n",
    "print(tokens)"
   ]
  },
  {
   "cell_type": "code",
   "execution_count": 19,
   "metadata": {},
   "outputs": [
    {
     "name": "stderr",
     "output_type": "stream",
     "text": [
      "<>:5: SyntaxWarning: invalid escape sequence '\\m'\n",
      "<>:5: SyntaxWarning: invalid escape sequence '\\m'\n",
      "/var/folders/bt/98w6jm115f99c9gyn7sj61rdg953ht/T/ipykernel_34916/4063661453.py:5: SyntaxWarning: invalid escape sequence '\\m'\n",
      "  '''Both by myself and many other friends:\\mBut he, his own affections' counsellor,\\nIs to himself--I will not say how true--\\nBut to himself so secret and so close,'''\n"
     ]
    }
   ],
   "source": [
    "# Sample corpus (normally this would be much bigger)\n",
    "sample_corpus = (\n",
    "    '''Mr. Louis continued to say, \"Penguins are important, \\nbut we mustn't forget the nuumber 1 priority: the READER!\"''',\n",
    "    '''BRUTUS:\\nHe's a lamb indeed, that baes like a bear.''',\n",
    "    '''Both by myself and many other friends:\\mBut he, his own affections' counsellor,\\nIs to himself--I will not say how true--\\nBut to himself so secret and so close,'''\n",
    ")"
   ]
  },
  {
   "cell_type": "code",
   "execution_count": 20,
   "metadata": {},
   "outputs": [],
   "source": [
    "# COMPLETE: Create an encoder to transform token strings to IDs using the sample\n",
    "# corpus as the basis of your encoding\n",
    "\n",
    "# COMPLETE: Your code here (might be outside of the encode() function scope)\n",
    "\n",
    "# Retrieve unique tokens (from the pipeline defined above) in a set\n",
    "\n",
    "from collections import defaultdict\n",
    "\n",
    "\n",
    "unique_tokens = set()\n",
    "for text in sample_corpus:\n",
    "    tokens_from_text = tokenize_text(text)\n",
    "    tokens_from_text = postprocess_tokens(tokens_from_text)\n",
    "    unique_tokens.update(tokens_from_text)\n",
    "\n",
    "# Create mapping (dictionary) for unique tokens using arbitrary & unique IDs\n",
    "token2id = defaultdict(lambda : 0) # Allow for unknown tokens to map to 0\n",
    "token2id |= {\n",
    "    token: idx\n",
    "    for idx, token in enumerate(unique_tokens, 1) # Skip 0 (represents unknown)\n",
    "}\n",
    "\n",
    "# A mapping for IDs to convert back to token\n",
    "id2token = defaultdict(lambda : '[UNK]') # Allow for unknown token ('[UNK]')\n",
    "id2token |= {\n",
    "    idx: token\n",
    "    for token, idx in token2id.items()\n",
    "}\n",
    "\n",
    "\n",
    "def encode(tokens: list[str]) -> list[int]:\n",
    "    # COMPLETE: Complete this function to encode tokens to integer IDs\n",
    "    encoded_tokens = [token2id[token] for token in tokens]\n",
    "    return encoded_tokens\n"
   ]
  },
  {
   "cell_type": "code",
   "execution_count": 21,
   "metadata": {},
   "outputs": [
    {
     "name": "stdout",
     "output_type": "stream",
     "text": [
      "Tokens:\n",
      "['[BOS]', 'mr.', 'louis', 'continued', 'to', 'say,', '\"penguins', 'are', 'important,', 'but', 'we', \"mustn't\", 'forget', 'the', 'nuumber', '1', 'priority:', 'the', 'reader!\"', '[EOS]']\n",
      "\n"
     ]
    }
   ],
   "source": [
    "# Use sample text for testing\n",
    "sample_text = sample_corpus[0]\n",
    "# Create tokens (to be fed to encode())\n",
    "tokens = tokenize_text(sample_text)\n",
    "tokens = postprocess_tokens(tokens)\n",
    "print(f'Tokens:\\n{tokens}\\n')"
   ]
  },
  {
   "cell_type": "code",
   "execution_count": 22,
   "metadata": {},
   "outputs": [
    {
     "name": "stdout",
     "output_type": "stream",
     "text": [
      "Encoded Tokens:\n",
      "[21, 4, 42, 9, 18, 2, 10, 47, 40, 41, 13, 14, 19, 49, 39, 28, 35, 49, 22, 46]\n",
      "\n"
     ]
    }
   ],
   "source": [
    "# Test encode()\n",
    "encoded_tokens = encode(tokens)\n",
    "print(f'Encoded Tokens:\\n{encoded_tokens}\\n')"
   ]
  },
  {
   "cell_type": "code",
   "execution_count": 23,
   "metadata": {},
   "outputs": [],
   "source": [
    "# COMPLETE: Create an encoder to transform IDs (from encode()) to token strings\n",
    "\n",
    "def decode(ids: list[int]) -> list[str]:\n",
    "    # COMPLETE: Complete this function to decode integer IDs to token strings\n",
    "    token_strings = [id2token[idx] for idx in ids]\n",
    "    return token_strings"
   ]
  },
  {
   "cell_type": "code",
   "execution_count": 24,
   "metadata": {},
   "outputs": [
    {
     "name": "stdout",
     "output_type": "stream",
     "text": [
      "Tokens:\n",
      "['[BOS]', 'mr.', 'louis', 'continued', 'to', 'say,', '\"penguins', 'are', 'important,', 'but', 'we', \"mustn't\", 'forget', 'the', 'nuumber', '1', 'priority:', 'the', 'reader!\"', '[EOS]']\n",
      "\n",
      "Encoded Tokens:\n",
      "[21, 4, 42, 9, 18, 2, 10, 47, 40, 41, 13, 14, 19, 49, 39, 28, 35, 49, 22, 46]\n",
      "\n"
     ]
    }
   ],
   "source": [
    "# Use sample text for testing\n",
    "sample_text = sample_corpus[0]\n",
    "# Create tokens\n",
    "tokens = tokenize_text(sample_text)\n",
    "tokens = postprocess_tokens(tokens)\n",
    "print(f'Tokens:\\n{tokens}\\n')\n",
    "\n",
    "# Create token IDs (to be fed to decode())\n",
    "encoded_tokens = encode(tokens)\n",
    "print(f'Encoded Tokens:\\n{encoded_tokens}\\n')"
   ]
  },
  {
   "cell_type": "code",
   "execution_count": 25,
   "metadata": {},
   "outputs": [
    {
     "name": "stdout",
     "output_type": "stream",
     "text": [
      "Decoded Tokens:\n",
      "['[BOS]', 'mr.', 'louis', 'continued', 'to', 'say,', '\"penguins', 'are', 'important,', 'but', 'we', \"mustn't\", 'forget', 'the', 'nuumber', '1', 'priority:', 'the', 'reader!\"', '[EOS]']\n",
      "\n"
     ]
    }
   ],
   "source": [
    "decoded_tokens = decode(encoded_tokens)\n",
    "print(f'Decoded Tokens:\\n{decoded_tokens}\\n')"
   ]
  }
 ],
 "metadata": {
  "kernelspec": {
   "display_name": "Python 3",
   "language": "python",
   "name": "python3"
  },
  "language_info": {
   "codemirror_mode": {
    "name": "ipython",
    "version": 3
   },
   "file_extension": ".py",
   "mimetype": "text/x-python",
   "name": "python",
   "nbconvert_exporter": "python",
   "pygments_lexer": "ipython3",
   "version": "3.12.3"
  }
 },
 "nbformat": 4,
 "nbformat_minor": 2
}
